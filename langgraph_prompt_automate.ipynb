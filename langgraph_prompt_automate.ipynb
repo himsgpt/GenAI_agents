{
  "cells": [
    {
      "cell_type": "markdown",
      "metadata": {
        "id": "view-in-github",
        "colab_type": "text"
      },
      "source": [
        "<a href=\"https://colab.research.google.com/github/himsgpt/GenAI_agents/blob/main/langgraph_prompt_automate.ipynb\" target=\"_parent\"><img src=\"https://colab.research.google.com/assets/colab-badge.svg\" alt=\"Open In Colab\"/></a>"
      ]
    },
    {
      "cell_type": "code",
      "execution_count": 3,
      "metadata": {
        "colab": {
          "base_uri": "https://localhost:8080/"
        },
        "collapsed": true,
        "id": "nBerNSNA5PRU",
        "outputId": "b596f555-f8c1-48c9-e190-851329163def"
      },
      "outputs": [
        {
          "output_type": "stream",
          "name": "stdout",
          "text": [
            "Requirement already satisfied: langgraph in /usr/local/lib/python3.11/dist-packages (0.6.4)\n",
            "Requirement already satisfied: langchain-core in /usr/local/lib/python3.11/dist-packages (0.3.72)\n",
            "Requirement already satisfied: pydantic in /usr/local/lib/python3.11/dist-packages (2.11.7)\n",
            "Requirement already satisfied: langgraph-checkpoint<3.0.0,>=2.1.0 in /usr/local/lib/python3.11/dist-packages (from langgraph) (2.1.1)\n",
            "Requirement already satisfied: langgraph-prebuilt<0.7.0,>=0.6.0 in /usr/local/lib/python3.11/dist-packages (from langgraph) (0.6.4)\n",
            "Requirement already satisfied: langgraph-sdk<0.3.0,>=0.2.0 in /usr/local/lib/python3.11/dist-packages (from langgraph) (0.2.0)\n",
            "Requirement already satisfied: xxhash>=3.5.0 in /usr/local/lib/python3.11/dist-packages (from langgraph) (3.5.0)\n",
            "Requirement already satisfied: langsmith>=0.3.45 in /usr/local/lib/python3.11/dist-packages (from langchain-core) (0.4.10)\n",
            "Requirement already satisfied: tenacity!=8.4.0,<10.0.0,>=8.1.0 in /usr/local/lib/python3.11/dist-packages (from langchain-core) (8.5.0)\n",
            "Requirement already satisfied: jsonpatch<2.0,>=1.33 in /usr/local/lib/python3.11/dist-packages (from langchain-core) (1.33)\n",
            "Requirement already satisfied: PyYAML>=5.3 in /usr/local/lib/python3.11/dist-packages (from langchain-core) (6.0.2)\n",
            "Requirement already satisfied: typing-extensions>=4.7 in /usr/local/lib/python3.11/dist-packages (from langchain-core) (4.14.1)\n",
            "Requirement already satisfied: packaging>=23.2 in /usr/local/lib/python3.11/dist-packages (from langchain-core) (25.0)\n",
            "Requirement already satisfied: annotated-types>=0.6.0 in /usr/local/lib/python3.11/dist-packages (from pydantic) (0.7.0)\n",
            "Requirement already satisfied: pydantic-core==2.33.2 in /usr/local/lib/python3.11/dist-packages (from pydantic) (2.33.2)\n",
            "Requirement already satisfied: typing-inspection>=0.4.0 in /usr/local/lib/python3.11/dist-packages (from pydantic) (0.4.1)\n",
            "Requirement already satisfied: jsonpointer>=1.9 in /usr/local/lib/python3.11/dist-packages (from jsonpatch<2.0,>=1.33->langchain-core) (3.0.0)\n",
            "Requirement already satisfied: ormsgpack>=1.10.0 in /usr/local/lib/python3.11/dist-packages (from langgraph-checkpoint<3.0.0,>=2.1.0->langgraph) (1.10.0)\n",
            "Requirement already satisfied: httpx>=0.25.2 in /usr/local/lib/python3.11/dist-packages (from langgraph-sdk<0.3.0,>=0.2.0->langgraph) (0.28.1)\n",
            "Requirement already satisfied: orjson>=3.10.1 in /usr/local/lib/python3.11/dist-packages (from langgraph-sdk<0.3.0,>=0.2.0->langgraph) (3.11.1)\n",
            "Requirement already satisfied: requests-toolbelt>=1.0.0 in /usr/local/lib/python3.11/dist-packages (from langsmith>=0.3.45->langchain-core) (1.0.0)\n",
            "Requirement already satisfied: requests>=2.0.0 in /usr/local/lib/python3.11/dist-packages (from langsmith>=0.3.45->langchain-core) (2.32.3)\n",
            "Requirement already satisfied: zstandard>=0.23.0 in /usr/local/lib/python3.11/dist-packages (from langsmith>=0.3.45->langchain-core) (0.23.0)\n",
            "Requirement already satisfied: anyio in /usr/local/lib/python3.11/dist-packages (from httpx>=0.25.2->langgraph-sdk<0.3.0,>=0.2.0->langgraph) (4.10.0)\n",
            "Requirement already satisfied: certifi in /usr/local/lib/python3.11/dist-packages (from httpx>=0.25.2->langgraph-sdk<0.3.0,>=0.2.0->langgraph) (2025.8.3)\n",
            "Requirement already satisfied: httpcore==1.* in /usr/local/lib/python3.11/dist-packages (from httpx>=0.25.2->langgraph-sdk<0.3.0,>=0.2.0->langgraph) (1.0.9)\n",
            "Requirement already satisfied: idna in /usr/local/lib/python3.11/dist-packages (from httpx>=0.25.2->langgraph-sdk<0.3.0,>=0.2.0->langgraph) (3.10)\n",
            "Requirement already satisfied: h11>=0.16 in /usr/local/lib/python3.11/dist-packages (from httpcore==1.*->httpx>=0.25.2->langgraph-sdk<0.3.0,>=0.2.0->langgraph) (0.16.0)\n",
            "Requirement already satisfied: charset-normalizer<4,>=2 in /usr/local/lib/python3.11/dist-packages (from requests>=2.0.0->langsmith>=0.3.45->langchain-core) (3.4.2)\n",
            "Requirement already satisfied: urllib3<3,>=1.21.1 in /usr/local/lib/python3.11/dist-packages (from requests>=2.0.0->langsmith>=0.3.45->langchain-core) (2.5.0)\n",
            "Requirement already satisfied: sniffio>=1.1 in /usr/local/lib/python3.11/dist-packages (from anyio->httpx>=0.25.2->langgraph-sdk<0.3.0,>=0.2.0->langgraph) (1.3.1)\n",
            "Requirement already satisfied: python-dotenv in /usr/local/lib/python3.11/dist-packages (1.1.1)\n",
            "Requirement already satisfied: fireworks-ai in /usr/local/lib/python3.11/dist-packages (0.19.18)\n",
            "Requirement already satisfied: httpx in /usr/local/lib/python3.11/dist-packages (from fireworks-ai) (0.28.1)\n",
            "Requirement already satisfied: httpx-ws in /usr/local/lib/python3.11/dist-packages (from fireworks-ai) (0.7.2)\n",
            "Requirement already satisfied: httpx-sse in /usr/local/lib/python3.11/dist-packages (from fireworks-ai) (0.4.1)\n",
            "Requirement already satisfied: pydantic in /usr/local/lib/python3.11/dist-packages (from fireworks-ai) (2.11.7)\n",
            "Requirement already satisfied: Pillow in /usr/local/lib/python3.11/dist-packages (from fireworks-ai) (11.3.0)\n",
            "Requirement already satisfied: openai in /usr/local/lib/python3.11/dist-packages (from fireworks-ai) (1.78.1)\n",
            "Requirement already satisfied: typing_extensions in /usr/local/lib/python3.11/dist-packages (from fireworks-ai) (4.14.1)\n",
            "Requirement already satisfied: mmh3>=4.1.0 in /usr/local/lib/python3.11/dist-packages (from fireworks-ai) (5.2.0)\n",
            "Requirement already satisfied: betterproto-fw>=2.0.3 in /usr/local/lib/python3.11/dist-packages (from betterproto-fw[compiler]>=2.0.3->fireworks-ai) (2.0.3)\n",
            "Requirement already satisfied: asyncstdlib-fw>=3.13.2 in /usr/local/lib/python3.11/dist-packages (from fireworks-ai) (3.13.2)\n",
            "Requirement already satisfied: grpcio>=1.71.0 in /usr/local/lib/python3.11/dist-packages (from fireworks-ai) (1.74.0)\n",
            "Requirement already satisfied: protobuf==5.29.3 in /usr/local/lib/python3.11/dist-packages (from fireworks-ai) (5.29.3)\n",
            "Requirement already satisfied: rich>=14.0.0 in /usr/local/lib/python3.11/dist-packages (from fireworks-ai) (14.1.0)\n",
            "Requirement already satisfied: reward-kit>=0.3.1 in /usr/local/lib/python3.11/dist-packages (from fireworks-ai) (0.4.1)\n",
            "Requirement already satisfied: toml>=0.10.2 in /usr/local/lib/python3.11/dist-packages (from fireworks-ai) (0.10.2)\n",
            "Requirement already satisfied: aiohttp>=3.12.11 in /usr/local/lib/python3.11/dist-packages (from aiohttp[speedups]>=3.12.11->fireworks-ai) (3.12.15)\n",
            "Requirement already satisfied: attrs==23.2.0 in /usr/local/lib/python3.11/dist-packages (from fireworks-ai) (23.2.0)\n",
            "Requirement already satisfied: googleapis-common-protos>=1.60.0 in /usr/local/lib/python3.11/dist-packages (from fireworks-ai) (1.70.0)\n",
            "Requirement already satisfied: aiohappyeyeballs>=2.5.0 in /usr/local/lib/python3.11/dist-packages (from aiohttp>=3.12.11->aiohttp[speedups]>=3.12.11->fireworks-ai) (2.6.1)\n",
            "Requirement already satisfied: aiosignal>=1.4.0 in /usr/local/lib/python3.11/dist-packages (from aiohttp>=3.12.11->aiohttp[speedups]>=3.12.11->fireworks-ai) (1.4.0)\n",
            "Requirement already satisfied: frozenlist>=1.1.1 in /usr/local/lib/python3.11/dist-packages (from aiohttp>=3.12.11->aiohttp[speedups]>=3.12.11->fireworks-ai) (1.7.0)\n",
            "Requirement already satisfied: multidict<7.0,>=4.5 in /usr/local/lib/python3.11/dist-packages (from aiohttp>=3.12.11->aiohttp[speedups]>=3.12.11->fireworks-ai) (6.6.3)\n",
            "Requirement already satisfied: propcache>=0.2.0 in /usr/local/lib/python3.11/dist-packages (from aiohttp>=3.12.11->aiohttp[speedups]>=3.12.11->fireworks-ai) (0.3.2)\n",
            "Requirement already satisfied: yarl<2.0,>=1.17.0 in /usr/local/lib/python3.11/dist-packages (from aiohttp>=3.12.11->aiohttp[speedups]>=3.12.11->fireworks-ai) (1.20.1)\n",
            "Requirement already satisfied: aiodns>=3.3.0 in /usr/local/lib/python3.11/dist-packages (from aiohttp[speedups]>=3.12.11->fireworks-ai) (3.5.0)\n",
            "Requirement already satisfied: Brotli in /usr/local/lib/python3.11/dist-packages (from aiohttp[speedups]>=3.12.11->fireworks-ai) (1.1.0)\n",
            "Requirement already satisfied: grpclib<0.5.0,>=0.4.1 in /usr/local/lib/python3.11/dist-packages (from betterproto-fw>=2.0.3->betterproto-fw[compiler]>=2.0.3->fireworks-ai) (0.4.8)\n",
            "Requirement already satisfied: python-dateutil<3.0.0,>=2.8.0 in /usr/local/lib/python3.11/dist-packages (from betterproto-fw>=2.0.3->betterproto-fw[compiler]>=2.0.3->fireworks-ai) (2.9.0.post0)\n",
            "Requirement already satisfied: ruff~=0.9.1 in /usr/local/lib/python3.11/dist-packages (from betterproto-fw[compiler]>=2.0.3->fireworks-ai) (0.9.10)\n",
            "Requirement already satisfied: jinja2>=3.0.3 in /usr/local/lib/python3.11/dist-packages (from betterproto-fw[compiler]>=2.0.3->fireworks-ai) (3.1.6)\n",
            "Requirement already satisfied: requests>=2.25.0 in /usr/local/lib/python3.11/dist-packages (from reward-kit>=0.3.1->fireworks-ai) (2.32.3)\n",
            "Requirement already satisfied: dataclasses-json>=0.5.7 in /usr/local/lib/python3.11/dist-packages (from reward-kit>=0.3.1->fireworks-ai) (0.6.7)\n",
            "Requirement already satisfied: fastapi>=0.68.0 in /usr/local/lib/python3.11/dist-packages (from reward-kit>=0.3.1->fireworks-ai) (0.116.1)\n",
            "Requirement already satisfied: uvicorn>=0.15.0 in /usr/local/lib/python3.11/dist-packages (from reward-kit>=0.3.1->fireworks-ai) (0.35.0)\n",
            "Requirement already satisfied: python-dotenv>=0.19.0 in /usr/local/lib/python3.11/dist-packages (from reward-kit>=0.3.1->fireworks-ai) (1.1.1)\n",
            "Requirement already satisfied: aiosqlite in /usr/local/lib/python3.11/dist-packages (from reward-kit>=0.3.1->fireworks-ai) (0.21.0)\n",
            "Requirement already satisfied: mcp>=1.9.2 in /usr/local/lib/python3.11/dist-packages (from reward-kit>=0.3.1->fireworks-ai) (1.12.4)\n",
            "Requirement already satisfied: PyYAML>=5.0 in /usr/local/lib/python3.11/dist-packages (from reward-kit>=0.3.1->fireworks-ai) (6.0.2)\n",
            "Requirement already satisfied: datasets==3.6.0 in /usr/local/lib/python3.11/dist-packages (from reward-kit>=0.3.1->fireworks-ai) (3.6.0)\n",
            "Requirement already satisfied: fsspec==2025.3.0 in /usr/local/lib/python3.11/dist-packages (from reward-kit>=0.3.1->fireworks-ai) (2025.3.0)\n",
            "Requirement already satisfied: hydra-core>=1.3.2 in /usr/local/lib/python3.11/dist-packages (from reward-kit>=0.3.1->fireworks-ai) (1.3.2)\n",
            "Requirement already satisfied: omegaconf>=2.3.0 in /usr/local/lib/python3.11/dist-packages (from reward-kit>=0.3.1->fireworks-ai) (2.3.0)\n",
            "Requirement already satisfied: gymnasium>=0.29.0 in /usr/local/lib/python3.11/dist-packages (from reward-kit>=0.3.1->fireworks-ai) (1.2.0)\n",
            "Requirement already satisfied: anyio<5,>=3.5.0 in /usr/local/lib/python3.11/dist-packages (from openai->fireworks-ai) (4.10.0)\n",
            "Requirement already satisfied: distro<2,>=1.7.0 in /usr/local/lib/python3.11/dist-packages (from openai->fireworks-ai) (1.9.0)\n",
            "Requirement already satisfied: jiter<1,>=0.4.0 in /usr/local/lib/python3.11/dist-packages (from openai->fireworks-ai) (0.10.0)\n",
            "Requirement already satisfied: sniffio in /usr/local/lib/python3.11/dist-packages (from openai->fireworks-ai) (1.3.1)\n",
            "Requirement already satisfied: tqdm>4 in /usr/local/lib/python3.11/dist-packages (from openai->fireworks-ai) (4.67.1)\n",
            "Requirement already satisfied: filelock in /usr/local/lib/python3.11/dist-packages (from datasets==3.6.0->reward-kit>=0.3.1->fireworks-ai) (3.18.0)\n",
            "Requirement already satisfied: numpy>=1.17 in /usr/local/lib/python3.11/dist-packages (from datasets==3.6.0->reward-kit>=0.3.1->fireworks-ai) (2.0.2)\n",
            "Requirement already satisfied: pyarrow>=15.0.0 in /usr/local/lib/python3.11/dist-packages (from datasets==3.6.0->reward-kit>=0.3.1->fireworks-ai) (18.1.0)\n",
            "Requirement already satisfied: dill<0.3.9,>=0.3.0 in /usr/local/lib/python3.11/dist-packages (from datasets==3.6.0->reward-kit>=0.3.1->fireworks-ai) (0.3.8)\n",
            "Requirement already satisfied: pandas in /usr/local/lib/python3.11/dist-packages (from datasets==3.6.0->reward-kit>=0.3.1->fireworks-ai) (2.2.2)\n",
            "Requirement already satisfied: xxhash in /usr/local/lib/python3.11/dist-packages (from datasets==3.6.0->reward-kit>=0.3.1->fireworks-ai) (3.5.0)\n",
            "Requirement already satisfied: multiprocess<0.70.17 in /usr/local/lib/python3.11/dist-packages (from datasets==3.6.0->reward-kit>=0.3.1->fireworks-ai) (0.70.16)\n",
            "Requirement already satisfied: huggingface-hub>=0.24.0 in /usr/local/lib/python3.11/dist-packages (from datasets==3.6.0->reward-kit>=0.3.1->fireworks-ai) (0.34.3)\n",
            "Requirement already satisfied: packaging in /usr/local/lib/python3.11/dist-packages (from datasets==3.6.0->reward-kit>=0.3.1->fireworks-ai) (25.0)\n",
            "Requirement already satisfied: certifi in /usr/local/lib/python3.11/dist-packages (from httpx->fireworks-ai) (2025.8.3)\n",
            "Requirement already satisfied: httpcore==1.* in /usr/local/lib/python3.11/dist-packages (from httpx->fireworks-ai) (1.0.9)\n",
            "Requirement already satisfied: idna in /usr/local/lib/python3.11/dist-packages (from httpx->fireworks-ai) (3.10)\n",
            "Requirement already satisfied: h11>=0.16 in /usr/local/lib/python3.11/dist-packages (from httpcore==1.*->httpx->fireworks-ai) (0.16.0)\n",
            "Requirement already satisfied: annotated-types>=0.6.0 in /usr/local/lib/python3.11/dist-packages (from pydantic->fireworks-ai) (0.7.0)\n",
            "Requirement already satisfied: pydantic-core==2.33.2 in /usr/local/lib/python3.11/dist-packages (from pydantic->fireworks-ai) (2.33.2)\n",
            "Requirement already satisfied: typing-inspection>=0.4.0 in /usr/local/lib/python3.11/dist-packages (from pydantic->fireworks-ai) (0.4.1)\n",
            "Requirement already satisfied: markdown-it-py>=2.2.0 in /usr/local/lib/python3.11/dist-packages (from rich>=14.0.0->fireworks-ai) (3.0.0)\n",
            "Requirement already satisfied: pygments<3.0.0,>=2.13.0 in /usr/local/lib/python3.11/dist-packages (from rich>=14.0.0->fireworks-ai) (2.19.2)\n",
            "Requirement already satisfied: wsproto in /usr/local/lib/python3.11/dist-packages (from httpx-ws->fireworks-ai) (1.2.0)\n",
            "Requirement already satisfied: pycares>=4.9.0 in /usr/local/lib/python3.11/dist-packages (from aiodns>=3.3.0->aiohttp[speedups]>=3.12.11->fireworks-ai) (4.10.0)\n",
            "Requirement already satisfied: marshmallow<4.0.0,>=3.18.0 in /usr/local/lib/python3.11/dist-packages (from dataclasses-json>=0.5.7->reward-kit>=0.3.1->fireworks-ai) (3.26.1)\n",
            "Requirement already satisfied: typing-inspect<1,>=0.4.0 in /usr/local/lib/python3.11/dist-packages (from dataclasses-json>=0.5.7->reward-kit>=0.3.1->fireworks-ai) (0.9.0)\n",
            "Requirement already satisfied: starlette<0.48.0,>=0.40.0 in /usr/local/lib/python3.11/dist-packages (from fastapi>=0.68.0->reward-kit>=0.3.1->fireworks-ai) (0.47.2)\n",
            "Requirement already satisfied: h2<5,>=3.1.0 in /usr/local/lib/python3.11/dist-packages (from grpclib<0.5.0,>=0.4.1->betterproto-fw>=2.0.3->betterproto-fw[compiler]>=2.0.3->fireworks-ai) (4.2.0)\n",
            "Requirement already satisfied: cloudpickle>=1.2.0 in /usr/local/lib/python3.11/dist-packages (from gymnasium>=0.29.0->reward-kit>=0.3.1->fireworks-ai) (3.1.1)\n",
            "Requirement already satisfied: farama-notifications>=0.0.1 in /usr/local/lib/python3.11/dist-packages (from gymnasium>=0.29.0->reward-kit>=0.3.1->fireworks-ai) (0.0.4)\n",
            "Requirement already satisfied: antlr4-python3-runtime==4.9.* in /usr/local/lib/python3.11/dist-packages (from hydra-core>=1.3.2->reward-kit>=0.3.1->fireworks-ai) (4.9.3)\n",
            "Requirement already satisfied: MarkupSafe>=2.0 in /usr/local/lib/python3.11/dist-packages (from jinja2>=3.0.3->betterproto-fw[compiler]>=2.0.3->fireworks-ai) (3.0.2)\n",
            "Requirement already satisfied: mdurl~=0.1 in /usr/local/lib/python3.11/dist-packages (from markdown-it-py>=2.2.0->rich>=14.0.0->fireworks-ai) (0.1.2)\n",
            "Requirement already satisfied: jsonschema>=4.20.0 in /usr/local/lib/python3.11/dist-packages (from mcp>=1.9.2->reward-kit>=0.3.1->fireworks-ai) (4.25.0)\n",
            "Requirement already satisfied: pydantic-settings>=2.5.2 in /usr/local/lib/python3.11/dist-packages (from mcp>=1.9.2->reward-kit>=0.3.1->fireworks-ai) (2.10.1)\n",
            "Requirement already satisfied: python-multipart>=0.0.9 in /usr/local/lib/python3.11/dist-packages (from mcp>=1.9.2->reward-kit>=0.3.1->fireworks-ai) (0.0.20)\n",
            "Requirement already satisfied: sse-starlette>=1.6.1 in /usr/local/lib/python3.11/dist-packages (from mcp>=1.9.2->reward-kit>=0.3.1->fireworks-ai) (3.0.2)\n",
            "Requirement already satisfied: six>=1.5 in /usr/local/lib/python3.11/dist-packages (from python-dateutil<3.0.0,>=2.8.0->betterproto-fw>=2.0.3->betterproto-fw[compiler]>=2.0.3->fireworks-ai) (1.17.0)\n",
            "Requirement already satisfied: charset-normalizer<4,>=2 in /usr/local/lib/python3.11/dist-packages (from requests>=2.25.0->reward-kit>=0.3.1->fireworks-ai) (3.4.2)\n",
            "Requirement already satisfied: urllib3<3,>=1.21.1 in /usr/local/lib/python3.11/dist-packages (from requests>=2.25.0->reward-kit>=0.3.1->fireworks-ai) (2.5.0)\n",
            "Requirement already satisfied: click>=7.0 in /usr/local/lib/python3.11/dist-packages (from uvicorn>=0.15.0->reward-kit>=0.3.1->fireworks-ai) (8.2.1)\n",
            "Requirement already satisfied: hyperframe<7,>=6.1 in /usr/local/lib/python3.11/dist-packages (from h2<5,>=3.1.0->grpclib<0.5.0,>=0.4.1->betterproto-fw>=2.0.3->betterproto-fw[compiler]>=2.0.3->fireworks-ai) (6.1.0)\n",
            "Requirement already satisfied: hpack<5,>=4.1 in /usr/local/lib/python3.11/dist-packages (from h2<5,>=3.1.0->grpclib<0.5.0,>=0.4.1->betterproto-fw>=2.0.3->betterproto-fw[compiler]>=2.0.3->fireworks-ai) (4.1.0)\n",
            "Requirement already satisfied: hf-xet<2.0.0,>=1.1.3 in /usr/local/lib/python3.11/dist-packages (from huggingface-hub>=0.24.0->datasets==3.6.0->reward-kit>=0.3.1->fireworks-ai) (1.1.5)\n",
            "Requirement already satisfied: jsonschema-specifications>=2023.03.6 in /usr/local/lib/python3.11/dist-packages (from jsonschema>=4.20.0->mcp>=1.9.2->reward-kit>=0.3.1->fireworks-ai) (2025.4.1)\n",
            "Requirement already satisfied: referencing>=0.28.4 in /usr/local/lib/python3.11/dist-packages (from jsonschema>=4.20.0->mcp>=1.9.2->reward-kit>=0.3.1->fireworks-ai) (0.36.2)\n",
            "Requirement already satisfied: rpds-py>=0.7.1 in /usr/local/lib/python3.11/dist-packages (from jsonschema>=4.20.0->mcp>=1.9.2->reward-kit>=0.3.1->fireworks-ai) (0.26.0)\n",
            "Requirement already satisfied: cffi>=1.5.0 in /usr/local/lib/python3.11/dist-packages (from pycares>=4.9.0->aiodns>=3.3.0->aiohttp[speedups]>=3.12.11->fireworks-ai) (1.17.1)\n",
            "Requirement already satisfied: mypy-extensions>=0.3.0 in /usr/local/lib/python3.11/dist-packages (from typing-inspect<1,>=0.4.0->dataclasses-json>=0.5.7->reward-kit>=0.3.1->fireworks-ai) (1.1.0)\n",
            "Requirement already satisfied: pytz>=2020.1 in /usr/local/lib/python3.11/dist-packages (from pandas->datasets==3.6.0->reward-kit>=0.3.1->fireworks-ai) (2025.2)\n",
            "Requirement already satisfied: tzdata>=2022.7 in /usr/local/lib/python3.11/dist-packages (from pandas->datasets==3.6.0->reward-kit>=0.3.1->fireworks-ai) (2025.2)\n",
            "Requirement already satisfied: pycparser in /usr/local/lib/python3.11/dist-packages (from cffi>=1.5.0->pycares>=4.9.0->aiodns>=3.3.0->aiohttp[speedups]>=3.12.11->fireworks-ai) (2.22)\n"
          ]
        }
      ],
      "source": [
        "!pip install langgraph langchain-core pydantic\n",
        "!pip install python-dotenv\n",
        "!pip install fireworks-ai"
      ]
    },
    {
      "cell_type": "code",
      "execution_count": null,
      "metadata": {
        "colab": {
          "background_save": true
        },
        "id": "MXPwU7vq5jhj"
      },
      "outputs": [],
      "source": [
        "from typing import List, TypedDict\n",
        "from pydantic import BaseModel\n",
        "from langgraph.graph import StateGraph, START, END\n",
        "from langchain_core.messages import SystemMessage, HumanMessage, ToolMessage\n",
        "from langchain_core.prompts import ChatPromptTemplate, MessagesPlaceholder\n",
        "from langchain_core.runnables import RunnableLambda\n",
        "from langgraph.checkpoint.memory import InMemorySaver\n",
        "from fireworks.client import Fireworks"
      ]
    },
    {
      "cell_type": "code",
      "execution_count": null,
      "metadata": {
        "id": "OSpCHH0y8lXC"
      },
      "outputs": [],
      "source": [
        "# --------------------------\n",
        "# 1. Define promptdesign model\n",
        "# --------------------------\n",
        "\n",
        "class promptdesign(BaseModel):\n",
        "    topic: str\n",
        "    variables: List[str]\n",
        "    negative_prompt: str\n",
        "    output_format: str\n",
        "\n",
        "# --------------------------\n",
        "# 2. Define LangGraph state type\n",
        "# --------------------------\n",
        "\n",
        "class State(TypedDict):\n",
        "    spec: promptdesign\n",
        "    messages: List\n",
        "\n",
        "def llm_call(chat_messages: List[dict]) -> HumanMessage:\n",
        "\n",
        "  # Initialize client\n",
        "  api_key=\"fw_3ZaUhoBEKrVjoowPYn8SzEDn\"\n",
        "  client = Fireworks(api_key=api_key)\n",
        "  response = client.chat.completions.create(\n",
        "    model=\"accounts/fireworks/models/mixtral-8x22b-instruct\",\n",
        "    messages=chat_messages,\n",
        "    max_tokens=1024,\n",
        "    temperature=0.1\n",
        "  )\n",
        "  ai_response = response.choices[0].message.content\n",
        "  ai_msg = HumanMessage(content = ai_response)\n",
        "  client.close()\n",
        "\n",
        "  return ai_msg\n",
        "\n",
        "# --------------------------\n",
        "# 3. Nodes\n",
        "# --------------------------\n",
        "\n",
        "def info_node(state: State) -> State:\n",
        "    \"\"\"Build system and human messages from promptdesign input\"\"\"\n",
        "    spec = state[\"spec\"]\n",
        "\n",
        "    system_msg = SystemMessage(\n",
        "        content=f\"You are a prompt engineering assistant. Your task is to design structured prompts for tasks like '{spec.topic}'.\"\n",
        "    )\n",
        "\n",
        "    human_msg = HumanMessage(\n",
        "        content=(\n",
        "            f\"Design a prompt for: {spec.topic}\\n\\n\"\n",
        "            f\"Required variables: {', '.join(spec.variables)}\\n\"\n",
        "            f\"Negative instruction: {spec.negative_prompt}\\n\"\n",
        "            f\"Desired output format: {spec.output_format}\"\n",
        "        )\n",
        "    )\n",
        "\n",
        "    return {\n",
        "        \"spec\": spec,\n",
        "        \"messages\": [system_msg, human_msg],\n",
        "    }\n",
        "\n",
        "def add_tool_message(state: State) -> State:\n",
        "    \"\"\"Adds a tool message acknowledgment\"\"\"\n",
        "    last_msg = state[\"messages\"][-1]\n",
        "    tool_msg = ToolMessage(\n",
        "        content=\"Acknowledged. Building your prompt now.\",\n",
        "        tool_call_id=\"tool_123\"\n",
        "    )\n",
        "    return {\n",
        "        \"spec\": state[\"spec\"],\n",
        "        \"messages\": state[\"messages\"] + [tool_msg],\n",
        "    }\n",
        "\n",
        "def build_prompt(state: State) -> State:\n",
        "    \"\"\"Build a ChatPromptTemplate from messages\"\"\"\n",
        "    prompt = ChatPromptTemplate.from_messages(\n",
        "        state[\"messages\"] + [MessagesPlaceholder(variable_name=\"history\")]\n",
        "    )\n",
        "    messages = [\n",
        "    {\"role\": \"system\", \"content\": m.content} if isinstance(m, SystemMessage)\n",
        "    else {\"role\": \"user\", \"content\": m.content}\n",
        "    for m in state[\"messages\"]\n",
        "    if not isinstance(m, ToolMessage)  # ✅ filter out ToolMessage\n",
        "    ]\n",
        "    ai_msg = llm_call(messages)\n",
        "    return {\"spec\": state[\"spec\"], \"messages\": state[\"messages\"] + [ai_msg]}\n",
        "\n",
        "\n",
        "def final_output(state: State) -> State:\n",
        "    print(\"\\n✅ LLM Generated Prompt:\")\n",
        "    print(state[\"messages\"][-1].content)\n",
        "    return state\n",
        "\n",
        "def decide(state: State) -> str:\n",
        "    return \"call_llm\" if any(isinstance(m, ToolMessage) for m in state[\"messages\"]) else \"add_tool_msg\"\n"
      ]
    },
    {
      "cell_type": "code",
      "execution_count": null,
      "metadata": {
        "id": "bGmZewjQiccK"
      },
      "outputs": [],
      "source": [
        "memory = InMemorySaver()\n",
        "workflow = StateGraph(State)\n",
        "\n",
        "workflow.add_node(\"info\", RunnableLambda(info_node))\n",
        "workflow.add_node(\"add_tool_msg\", RunnableLambda(add_tool_message))\n",
        "workflow.add_node(\"call_llm\", RunnableLambda(build_prompt))\n",
        "workflow.add_node(\"final\", RunnableLambda(final_output))\n",
        "\n",
        "workflow.add_conditional_edges(\"info\", decide, {\"add_tool_msg\": \"add_tool_msg\", \"call_llm\": \"call_llm\"})\n",
        "workflow.add_edge(\"add_tool_msg\", \"call_llm\")\n",
        "workflow.add_edge(\"call_llm\", \"final\")\n",
        "workflow.add_edge(\"final\", END)\n",
        "workflow.add_edge(START, \"info\")\n",
        "\n",
        "graph = workflow.compile(checkpointer=memory)"
      ]
    },
    {
      "cell_type": "code",
      "execution_count": null,
      "metadata": {
        "colab": {
          "base_uri": "https://localhost:8080/",
          "height": 548
        },
        "id": "Ej7HwZOcr2hi",
        "outputId": "758a9bc1-f145-4d0d-e241-64fbc91048d4"
      },
      "outputs": [
        {
          "data": {
            "image/png": "[encoded data removed]",
            "text/plain": [
              "<IPython.core.display.Image object>"
            ]
          },
          "metadata": {},
          "output_type": "display_data"
        }
      ],
      "source": [
        "from IPython.display import Image, display\n",
        "display(Image(graph.get_graph().draw_mermaid_png()))"
      ]
    },
    {
      "cell_type": "markdown",
      "metadata": {
        "id": "IlfgVE6x8109"
      },
      "source": [
        "## Invoke"
      ]
    },
    {
      "cell_type": "code",
      "execution_count": null,
      "metadata": {
        "colab": {
          "base_uri": "https://localhost:8080/"
        },
        "id": "cCUBcmtO83T-",
        "outputId": "eee6b74e-0e47-442f-e517-8e7b26575e5e"
      },
      "outputs": [
        {
          "name": "stderr",
          "output_type": "stream",
          "text": [
            "ERROR:asyncio:Unclosed client session\n",
            "client_session: <aiohttp.client.ClientSession object at 0x7efb027041d0>\n",
            "ERROR:asyncio:Unclosed client session\n",
            "client_session: <aiohttp.client.ClientSession object at 0x7efb02833a90>\n"
          ]
        },
        {
          "name": "stdout",
          "output_type": "stream",
          "text": [
            "\n",
            "✅ LLM Generated Prompt:\n",
            "Title: RAG Pipeline Task\n",
            "\n",
            "Description:\n",
            "You are given a context and a question. Your task is to extract relevant information from the context and provide a concise answer to the question using bullet points. Avoid including irrelevant details in your response.\n",
            "\n",
            "Context: [Insert context here]\n",
            "\n",
            "Question: [Insert question here]\n",
            "\n",
            "Desired Output Format:\n",
            "- Bullet point 1: [Relevant information from context]\n",
            "- Bullet point 2: [Relevant information from context]\n",
            "- Bullet point 3: [Relevant information from context]\n",
            "- ...\n",
            "\n",
            "Example:\n",
            "Context: The RAG pipeline is a machine learning model that combines retrieval-augmented generation with a language model. It consists of three main components: a retriever, a reader, and a generator. The retriever fetches relevant documents from a large corpus, the reader extracts information from these documents, and the generator produces the final output based on the extracted information.\n",
            "\n",
            "Question: What are the main components of the RAG pipeline?\n",
            "\n",
            "Desired Output Format:\n",
            "- The retriever: Fetches relevant documents from a large corpus.\n",
            "- The reader: Extracts information from the retrieved documents.\n",
            "- The generator: Produces the final output based on the extracted information.\n"
          ]
        },
        {
          "data": {
            "text/plain": [
              "{'spec': promptdesign(topic='RAG pipeline', variables=['context', 'question'], negative_prompt='irrelevant details', output_format='bullet points'),\n",
              " 'messages': [SystemMessage(content=\"You are a prompt engineering assistant. Your task is to design structured prompts for tasks like 'RAG pipeline'.\", additional_kwargs={}, response_metadata={}),\n",
              "  HumanMessage(content='Design a prompt for: RAG pipeline\\n\\nRequired variables: context, question\\nNegative instruction: irrelevant details\\nDesired output format: bullet points', additional_kwargs={}, response_metadata={}),\n",
              "  ToolMessage(content='Acknowledged. Building your prompt now.', tool_call_id='tool_123'),\n",
              "  HumanMessage(content='Title: RAG Pipeline Task\\n\\nDescription:\\nYou are given a context and a question. Your task is to extract relevant information from the context and provide a concise answer to the question using bullet points. Avoid including irrelevant details in your response.\\n\\nContext: [Insert context here]\\n\\nQuestion: [Insert question here]\\n\\nDesired Output Format:\\n- Bullet point 1: [Relevant information from context]\\n- Bullet point 2: [Relevant information from context]\\n- Bullet point 3: [Relevant information from context]\\n- ...\\n\\nExample:\\nContext: The RAG pipeline is a machine learning model that combines retrieval-augmented generation with a language model. It consists of three main components: a retriever, a reader, and a generator. The retriever fetches relevant documents from a large corpus, the reader extracts information from these documents, and the generator produces the final output based on the extracted information.\\n\\nQuestion: What are the main components of the RAG pipeline?\\n\\nDesired Output Format:\\n- The retriever: Fetches relevant documents from a large corpus.\\n- The reader: Extracts information from the retrieved documents.\\n- The generator: Produces the final output based on the extracted information.', additional_kwargs={}, response_metadata={})]}"
            ]
          },
          "execution_count": 34,
          "metadata": {},
          "output_type": "execute_result"
        }
      ],
      "source": [
        "spec = promptdesign(\n",
        "    topic=\"RAG pipeline\",\n",
        "    variables=[\"context\", \"question\"],\n",
        "    negative_prompt=\"irrelevant details\",\n",
        "    output_format=\"bullet points\"\n",
        ")\n",
        "graph.invoke({\"spec\": spec, \"messages\": []}, config={\"configurable\": {\"thread_id\": \"thread_1\"}})"
      ]
    },
    {
      "cell_type": "markdown",
      "metadata": {
        "id": "fgS3let-9wjS"
      },
      "source": [
        "## Part 2: Self optimzation prompt"
      ]
    },
    {
      "cell_type": "markdown",
      "metadata": {
        "id": "9B2XqfszBx3s"
      },
      "source": [
        "### ➕ Nodes:\n",
        "init_node – sets initial prompt_text from spec, runs reward eval.\n",
        "\n",
        "`generate_variants` – produces multiple prompt variants using the LLM.\n",
        "`evaluate_variants` – runs each variant on sample input(s), obtains metric feedback.\n",
        "`select_best` – re-ranks and picks the best-performing prompt variant.\n",
        "`feedback_refine` – uses LLM-generated critiques (“textual gradients”) to refine best prompt.\n",
        "`termination_check` – stops when performance plateaus or max iterations reached.\n",
        "`final_output` – returns the optimized prompt."
      ]
    },
    {
      "cell_type": "code",
      "execution_count": 9,
      "metadata": {
        "id": "CXJTlFKJGpit"
      },
      "outputs": [],
      "source": [
        "import random\n",
        "from typing import List, TypedDict\n",
        "from pydantic import BaseModel\n",
        "from langgraph.graph import StateGraph, START, END\n",
        "from langgraph.checkpoint.memory import InMemorySaver\n",
        "from langchain_core.messages import SystemMessage, HumanMessage\n",
        "from langchain_core.runnables import RunnableLambda\n",
        "from fireworks.client import Fireworks\n",
        "\n",
        "# --------------------------\n",
        "# 1. Define promptdesign model\n",
        "# --------------------------\n",
        "\n",
        "class PromptDesign(BaseModel):\n",
        "    topic: str\n",
        "    variables: List[str]\n",
        "    negative_prompt: str\n",
        "    output_format: str\n",
        "    num_variants: int = 2\n",
        "    max_iters: int = 1\n",
        "\n",
        "# --------------------------\n",
        "# 2. Define LangGraph state type\n",
        "# --------------------------\n",
        "\n",
        "class State(TypedDict):\n",
        "    spec: PromptDesign\n",
        "    prompt_text: str\n",
        "    performance: float\n",
        "    iterations: int\n",
        "    variants: List[str] # Added variants to state type\n",
        "    scores: List[float] # Added scores to state type\n",
        "\n",
        "\n",
        "# --------------------------\n",
        "# 3. Helper: LLM call\n",
        "# --------------------------\n",
        "\n",
        "def llm_call(prompts: List[dict], model: str = \"accounts/fireworks/models/mixtral-8x22b-instruct\") -> str:\n",
        "    client = Fireworks(api_key=\"fw_3ZaUhoBEKrVjoowPYn8SzEDn\")\n",
        "    try:\n",
        "        resp = client.chat.completions.create(\n",
        "            model=model,\n",
        "            messages=prompts,\n",
        "            max_tokens=200,\n",
        "            temperature=0.7\n",
        "        )\n",
        "        if not resp.choices:\n",
        "            raise ValueError(\"Fireworks API returned an empty list of choices.\")\n",
        "        content = resp.choices[0].message.content\n",
        "        if not content:\n",
        "            raise ValueError(\"Fireworks API returned None or empty content.\")\n",
        "        return content\n",
        "    except Exception as e:\n",
        "        print(f\"Error during Fireworks API call: {e}\")\n",
        "        # Fallback\n",
        "        return \"Variation 1: [Default]\\nVariation 2: [Default]\"\n",
        "    finally:\n",
        "        client.close()\n",
        "\n",
        "\n",
        "\n",
        "# --------------------------\n",
        "# 4. Nodes\n",
        "# --------------------------\n",
        "\n",
        "def init_node(state: State) -> State:\n",
        "    spec = state[\"spec\"]\n",
        "    # build initial prompt\n",
        "    prompt = f\"Task: {spec.topic}\\nVariables: {', '.join(spec.variables)}\\nFormat: {spec.output_format}\"\n",
        "    # evaluate initial via dummy\n",
        "    initial_perf = 0.0\n",
        "    return {\"spec\": spec, \"prompt_text\": prompt, \"performance\": initial_perf, \"iterations\": 0, \"variants\": [], \"scores\": []} # Initialized variants and scores\n",
        "\n",
        "def generate_variants(state: State) -> State:\n",
        "    spec = state[\"spec\"]\n",
        "    # create LLM prompt\n",
        "    system = {\"role\": \"system\", \"content\": f\"Generate {spec.num_variants} variations of this prompt: {state['prompt_text']}\"}\n",
        "    user = {\"role\": \"user\", \"content\": state[\"prompt_text\"]}\n",
        "    content = llm_call([system, user])\n",
        "    # parse variants split by newline\n",
        "    variants = [v.strip() for v in content.split(\"\\n\") if v.strip()]\n",
        "    state[\"variants\"] = variants\n",
        "    return state\n",
        "\n",
        "def evaluate_variants(state: State) -> State:\n",
        "    # dummy scoring: random\n",
        "    scores = [random.random() for _ in state[\"variants\"]]\n",
        "    state[\"scores\"] = scores\n",
        "    return state\n",
        "\n",
        "def select_best(state: State) -> State:\n",
        "    idx = max(range(len(state[\"variants\"])), key=lambda i: state[\"scores\"][i])\n",
        "    best = state[\"variants\"][idx]\n",
        "    best_score = state[\"scores\"][idx]\n",
        "    state[\"prompt_text\"] = best\n",
        "    state[\"performance\"] = best_score\n",
        "    return state\n",
        "\n",
        "def feedback_refine(state: State) -> State:\n",
        "    # ask LLM to refine\n",
        "    system = {\"role\": \"system\", \"content\": \"Provide a refined version of the following prompt to improve clarity and effectiveness.\"}\n",
        "    user = {\"role\": \"user\", \"content\": state[\"prompt_text\"]}\n",
        "    refined = llm_call([system, user])\n",
        "    state[\"prompt_text\"] = refined\n",
        "    state[\"iterations\"] += 1\n",
        "    return state\n",
        "\n",
        "def termination_check(state: State) -> bool:\n",
        "    spec = state[\"spec\"]\n",
        "    # stop if reached max or performance plateau (random threshold)\n",
        "    return state[\"iterations\"] >= spec.max_iters\n",
        "\n",
        "def final_output(state: State) -> State:\n",
        "    print(f\"\\nFinal optimized prompt after {state['iterations']} iterations (score={state['performance']:.3f}):\\n\")\n",
        "    print(state[\"prompt_text\"])\n",
        "    return state\n",
        "\n",
        "# --------------------------\n",
        "# 5. Build Graph\n",
        "# --------------------------\n",
        "\n",
        "memory = InMemorySaver()\n",
        "workflow = StateGraph(State)\n",
        "\n",
        "workflow.add_node(\"init\", RunnableLambda(init_node))\n",
        "workflow.add_node(\"gen\", RunnableLambda(generate_variants))\n",
        "workflow.add_node(\"eval\", RunnableLambda(evaluate_variants))\n",
        "workflow.add_node(\"select\", RunnableLambda(select_best))\n",
        "workflow.add_node(\"feedback\", RunnableLambda(feedback_refine))\n",
        "workflow.add_node(\"final\", RunnableLambda(final_output))\n",
        "\n",
        "# Edges: START -> init -> gen -> eval -> select -> feedback -> [loop or final]\n",
        "workflow.add_edge(START, \"init\")\n",
        "workflow.add_edge(\"init\", \"gen\")\n",
        "workflow.add_edge(\"gen\", \"eval\")\n",
        "workflow.add_edge(\"eval\", \"select\")\n",
        "workflow.add_edge(\"select\", \"feedback\")\n",
        "workflow.add_conditional_edges(\"feedback\", lambda s: \"final\" if termination_check(s) else \"gen\", {\"final\": \"final\", \"gen\": \"gen\"})\n",
        "workflow.add_edge(\"final\", END)\n",
        "\n",
        "graph = workflow.compile(checkpointer=memory)"
      ]
    },
    {
      "cell_type": "code",
      "execution_count": null,
      "metadata": {
        "colab": {
          "base_uri": "https://localhost:8080/",
          "height": 746
        },
        "id": "xtUiQCgeHSU_",
        "outputId": "076e5d2d-d158-4f87-a2af-f85ae914c44e"
      },
      "outputs": [
        {
          "data": {
            "image/png": "[encoded data removed]",
            "text/plain": [
              "<IPython.core.display.Image object>"
            ]
          },
          "metadata": {},
          "output_type": "display_data"
        }
      ],
      "source": [
        "\n",
        "from IPython.display import Image, display\n",
        "display(Image(graph.get_graph().draw_mermaid_png()))"
      ]
    },
    {
      "cell_type": "code",
      "execution_count": 10,
      "metadata": {
        "colab": {
          "base_uri": "https://localhost:8080/"
        },
        "id": "5Mco63dMHM1f",
        "outputId": "dd8e5bf6-3966-4431-f206-f04d3ab5092b"
      },
      "outputs": [
        {
          "output_type": "stream",
          "name": "stderr",
          "text": [
            "ERROR:asyncio:Unclosed client session\n",
            "client_session: <aiohttp.client.ClientSession object at 0x7f355d279e10>\n",
            "ERROR:asyncio:Unclosed client session\n",
            "client_session: <aiohttp.client.ClientSession object at 0x7f355f2d43d0>\n",
            "ERROR:asyncio:Unclosed client session\n",
            "client_session: <aiohttp.client.ClientSession object at 0x7f355d2cac90>\n",
            "ERROR:asyncio:Unclosed client session\n",
            "client_session: <aiohttp.client.ClientSession object at 0x7f355d2c9c90>\n"
          ]
        },
        {
          "output_type": "stream",
          "name": "stdout",
          "text": [
            "\n",
            "Final optimized prompt after 1 iterations (score=0.882):\n",
            "\n",
            "Subject: Enhancing Clarity and Effectiveness of Given Text\n",
            "\n",
            "Objective: Revise the provided text to ensure clarity, coherence, and improved effectiveness.\n",
            "\n",
            "Original Text: [Insert original text here]\n",
            "\n",
            "Refined Version: [Insert your revised and enhanced version of the given text here]\n",
            "\n",
            "Explanation: [Detailed explanation of the changes made and how they improve the original text's clarity and effectiveness]\n",
            "\n",
            "Notes:\n",
            "1. Ensure the refined version maintains the original message and intent.\n",
            "2. Consider the target audience, purpose, and context of the original text.\n",
            "3. Prioritize conciseness, simplicity, and active voice to make the text more engaging and understandable.\n",
            "4. Evaluate the tone and language to ensure they are appropriate for the context and audience.\n",
            "5. Use proper grammar, punctuation, and sentence structure to improve readability.\n",
            "6. Break down complex\n",
            "spec \n",
            " :  topic='Summarization' variables=['text'] negative_prompt='redundancy' output_format='concise paragraph' num_variants=3 max_iters=1\n",
            "prompt_text \n",
            " :  Subject: Enhancing Clarity and Effectiveness of Given Text\n",
            "\n",
            "Objective: Revise the provided text to ensure clarity, coherence, and improved effectiveness.\n",
            "\n",
            "Original Text: [Insert original text here]\n",
            "\n",
            "Refined Version: [Insert your revised and enhanced version of the given text here]\n",
            "\n",
            "Explanation: [Detailed explanation of the changes made and how they improve the original text's clarity and effectiveness]\n",
            "\n",
            "Notes:\n",
            "1. Ensure the refined version maintains the original message and intent.\n",
            "2. Consider the target audience, purpose, and context of the original text.\n",
            "3. Prioritize conciseness, simplicity, and active voice to make the text more engaging and understandable.\n",
            "4. Evaluate the tone and language to ensure they are appropriate for the context and audience.\n",
            "5. Use proper grammar, punctuation, and sentence structure to improve readability.\n",
            "6. Break down complex\n",
            "performance \n",
            " :  0.8816601430119112\n",
            "iterations \n",
            " :  1\n",
            "variants \n",
            " :  ['1. Task: Text Summary', 'Variables: provided passage', 'Format: succinct overview', '2. Task: Extract Key Points', 'Variables: given text', 'Format: brief synopsis', '3. Task: Condense Information', 'Variables: input text', 'Format: compact summary']\n",
            "scores \n",
            " :  [0.6840800447494066, 0.5750762393607448, 0.43829861666035663, 0.5996401106342922, 0.8816601430119112, 0.4094382840214539, 0.46450262449871127, 0.7028811461825688, 0.3686685264551981]\n"
          ]
        }
      ],
      "source": [
        "# --------------------------\n",
        "# 6. Run Example\n",
        "# --------------------------\n",
        "\n",
        "spec = PromptDesign(\n",
        "    topic=\"Summarization\",\n",
        "    variables=[\"text\"],\n",
        "    negative_prompt=\"redundancy\",\n",
        "    output_format=\"concise paragraph\",\n",
        "    num_variants=3,\n",
        "    max_iters=1\n",
        ")\n",
        "\n",
        "result = graph.invoke({\"spec\": spec, \"prompt_text\": \"\", \"performance\": 0.5, \"iterations\": 1},\n",
        "             {\"configurable\": {\"thread_id\": \"opt1\"}})\n",
        "\n",
        "for key, value in result.items():\n",
        "  print(key, '\\n', ': ', value)"
      ]
    },
    {
      "cell_type": "code",
      "source": [],
      "metadata": {
        "colab": {
          "base_uri": "https://localhost:8080/"
        },
        "id": "JJfO6nr5Mmdp",
        "outputId": "9f266862-eed1-41fd-d8dc-e6d125fcf0df"
      },
      "execution_count": 7,
      "outputs": [
        {
          "output_type": "stream",
          "name": "stdout",
          "text": [
            "spec \n",
            " :  topic='Summarization' variables=['text'] negative_prompt='redundancy' output_format='concise paragraph' num_variants=3 max_iters=1\n",
            "prompt_text \n",
            " :  Variation 1: [Default]\n",
            "Variation 2: [Default]\n",
            "performance \n",
            " :  0.18231931496014087\n",
            "iterations \n",
            " :  1\n",
            "variants \n",
            " :  ['Variation 1: [Default]', 'Variation 2: [Default]']\n",
            "scores \n",
            " :  [0.18231931496014087, 0.1589645010342794]\n"
          ]
        }
      ]
    },
    {
      "cell_type": "code",
      "execution_count": null,
      "metadata": {
        "id": "8gYUJ-kiuKVz"
      },
      "outputs": [],
      "source": [
        "## Now LLM provider check"
      ]
    },
    {
      "cell_type": "code",
      "execution_count": 8,
      "metadata": {
        "colab": {
          "base_uri": "https://localhost:8080/"
        },
        "id": "IstCWyrNuNUj",
        "outputId": "8a0ca635-8153-4344-9752-5b8f1a4280d5"
      },
      "outputs": [
        {
          "output_type": "stream",
          "name": "stdout",
          "text": [
            "API Key loaded: True\n",
            "API Test Status Code: 200\n",
            "Connection successful! Available models:\n",
            " - accounts/perplexity/models/r1-1776\n",
            " - accounts/fireworks/models/flux-1-dev-fp8\n",
            " - accounts/fireworks/models/llama4-scout-instruct-basic\n",
            " - accounts/fireworks/models/llama4-maverick-instruct-basic\n",
            " - accounts/fireworks/models/llama-v3p1-8b-instruct\n",
            " - accounts/fireworks/models/llama-v3p1-405b-instruct\n",
            " - accounts/fireworks/models/mixtral-8x22b-instruct\n",
            " - accounts/fireworks/models/flux-kontext-max\n",
            " - accounts/fireworks/models/qwen3-coder-480b-a35b-instruct\n",
            " - accounts/fireworks/models/qwen3-235b-a22b-instruct-2507\n",
            " - accounts/fireworks/models/deepseek-r1-0528\n",
            " - accounts/fireworks/models/deepseek-r1-basic\n",
            " - accounts/fireworks/models/llama-v3p1-70b-instruct\n",
            " - accounts/fireworks/models/llama-v3p3-70b-instruct\n",
            " - accounts/fireworks/models/deepseek-r1\n",
            " - accounts/fireworks/models/qwen3-30b-a3b\n",
            " - accounts/fireworks/models/qwen3-coder-30b-a3b-instruct\n",
            " - accounts/fireworks/models/qwen3-30b-a3b-thinking-2507\n",
            " - accounts/fireworks/models/qwen3-30b-a3b-instruct-2507\n",
            " - accounts/fireworks/models/glm-4p5-air\n",
            " - accounts/fireworks/models/glm-4p5\n",
            " - accounts/sentientfoundation/models/dobby-unhinged-llama-3-3-70b-new\n",
            " - accounts/fireworks/models/flux-1-schnell-fp8\n",
            " - accounts/fireworks/models/flux-kontext-pro\n",
            " - accounts/sentientfoundation-serverless/models/dobby-mini-unhinged-plus-llama-3-1-8b\n",
            " - accounts/fireworks/models/deepseek-v3\n",
            " - accounts/fireworks/models/qwen3-235b-a22b\n",
            " - accounts/fireworks/models/deepseek-v3-0324\n",
            " - accounts/fireworks/models/kimi-k2-instruct\n",
            " - accounts/fireworks/models/qwen2p5-vl-32b-instruct\n",
            " - accounts/fireworks/models/qwen3-235b-a22b-thinking-2507\n",
            " - accounts/fireworks/models/gpt-oss-20b\n",
            " - accounts/fireworks/models/gpt-oss-120b\n"
          ]
        }
      ],
      "source": [
        "import os\n",
        "import requests\n",
        "from dotenv import load_dotenv\n",
        "\n",
        "# Load API key\n",
        "# load_dotenv(\".env\")\n",
        "# api_key = os.getenv(\"FIREWORKS_API_KEY\")\n",
        "api_key=\"fw_3ZaUhoBEKrVjoowPYn8SzEDn\"\n",
        "print(f\"API Key loaded: {bool(api_key)}\")\n",
        "\n",
        "# Test the actual chat completions endpoint\n",
        "url = \"https://api.fireworks.ai/inference/v1/models\"\n",
        "headers = {\n",
        "    \"Authorization\": f\"Bearer {api_key}\",\n",
        "    \"Content-Type\": \"application/json\",\n",
        "}\n",
        "\n",
        "try:\n",
        "    response = requests.get(url, headers=headers)\n",
        "    print(f\"API Test Status Code: {response.status_code}\")\n",
        "\n",
        "    if response.status_code == 200:\n",
        "        print(\"Connection successful! Available models:\")\n",
        "        models = [model['id'] for model in response.json()['data']]\n",
        "        for model in models:\n",
        "            print(f\" - {model}\")\n",
        "    elif response.status_code == 401:\n",
        "        print(\"Error: Invalid API Key. Please verify your Fireworks API key.\")\n",
        "    else:\n",
        "        print(f\"Unexpected response: {response.text}\")\n",
        "\n",
        "except Exception as e:\n",
        "    print(f\"Connection failed: {str(e)}\")\n",
        "    print(\"Possible issues:\")\n",
        "    print(\"1. Internet connectivity problem\")\n",
        "    print(\"2. Fireworks API service outage\")\n",
        "    print(\"3. Firewall blocking requests to fireworks.ai\")"
      ]
    },
    {
      "cell_type": "code",
      "execution_count": null,
      "metadata": {
        "id": "TGjCsND9v3JQ"
      },
      "outputs": [],
      "source": []
    }
  ],
  "metadata": {
    "colab": {
      "provenance": [],
      "authorship_tag": "ABX9TyPor88xcSmPnrDxWlyQE2Oc",
      "include_colab_link": true
    },
    "kernelspec": {
      "display_name": "Python 3",
      "name": "python3"
    },
    "language_info": {
      "name": "python"
    }
  },
  "nbformat": 4,
  "nbformat_minor": 0
}